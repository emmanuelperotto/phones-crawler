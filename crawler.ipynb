{
 "nbformat": 4,
 "nbformat_minor": 2,
 "metadata": {
  "language_info": {
   "name": "python",
   "codemirror_mode": {
    "name": "ipython",
    "version": 3
   },
   "version": "3.7.4"
  },
  "orig_nbformat": 2,
  "file_extension": ".py",
  "mimetype": "text/x-python",
  "name": "python",
  "npconvert_exporter": "python",
  "pygments_lexer": "ipython3",
  "version": 3
 },
 "cells": [
  {
   "cell_type": "markdown",
   "metadata": {},
   "outputs": [],
   "source": [
    "# Importing Libraries"
   ]
  },
  {
   "cell_type": "code",
   "execution_count": 8,
   "metadata": {},
   "outputs": [],
   "source": [
    "import pandas\n",
    "\n",
    "from urllib.request import Request, urlopen\n",
    "from urllib.error import HTTPError, URLError\n",
    "from bs4 import BeautifulSoup"
   ]
  },
  {
   "cell_type": "markdown",
   "metadata": {},
   "outputs": [],
   "source": [
    "# Requesting for a smartphone info"
   ]
  },
  {
   "cell_type": "code",
   "execution_count": 9,
   "metadata": {},
   "outputs": [],
   "source": [
    "base_url = \"https://www.zoom.com.br/search?q=iphone+8\"\n",
    "headers = { \"User-Agent\": \"Mozilla/5.0 (Macintosh; Intel Mac OS X 10_15_1) AppleWebKit/537.36 (KHTML, like Gecko) Chrome/78.0.3904.108 Safari/537.36\" }\n",
    "\n",
    "try:\n",
    "    request = Request(base_url, headers=headers)\n",
    "    response = urlopen(request)\n",
    "    html = response.read().decode(\"utf-8\")\n",
    "    soup = BeautifulSoup(html, \"html.parser\")\n",
    "except HTTPError as error:\n",
    "    print(f\"HTTPError: {error}\")\n",
    "except URLError as error:\n",
    "    print(f\"URLError: {error}\")    \n",
    "except Exception as exception:\n",
    "    print(f\"Exception: {exception}\") \n",
    "\n",
    "\n"
   ]
  },
  {
   "cell_type": "markdown",
   "metadata": {},
   "outputs": [],
   "source": [
    "# Extracting Raw Data"
   ]
  },
  {
   "cell_type": "code",
   "execution_count": 10,
   "metadata": {},
   "outputs": [],
   "source": [
    "def data_extractor(card):\n",
    "    price_element = card.find(\"span\", { \"class\": \"mainValue\" })\n",
    "    name_element = card.find(\"a\", { \"class\": \"name\" })\n",
    "    store_count_element = card.find(\"a\", { \"class\": \"storeCount\" })\n",
    "\n",
    "    return { \n",
    "        \"price\": price_element.get_text() if price_element else None,\n",
    "        \"name\": name_element.get_text() if name_element else None,\n",
    "        \"store_count\": store_count_element.get_text() if store_count_element else None\n",
    "    }"
   ]
  },
  {
   "cell_type": "code",
   "execution_count": 11,
   "metadata": {},
   "outputs": [
    {
     "data": {
      "text/html": "<div>\n<style scoped>\n    .dataframe tbody tr th:only-of-type {\n        vertical-align: middle;\n    }\n\n    .dataframe tbody tr th {\n        vertical-align: top;\n    }\n\n    .dataframe thead th {\n        text-align: right;\n    }\n</style>\n<table border=\"1\" class=\"dataframe\">\n  <thead>\n    <tr style=\"text-align: right;\">\n      <th></th>\n      <th>price</th>\n      <th>name</th>\n      <th>store_count</th>\n    </tr>\n  </thead>\n  <tbody>\n    <tr>\n      <td>0</td>\n      <td>R$ 2.551</td>\n      <td>Smartphone Apple iPhone 8 64GB 12.0 MP Apple A...</td>\n      <td>em 14 lojas</td>\n    </tr>\n    <tr>\n      <td>1</td>\n      <td>R$ 2.903</td>\n      <td>Smartphone Apple iPhone 8 128GB 12.0 MP iOS 11</td>\n      <td>em 6 lojas</td>\n    </tr>\n    <tr>\n      <td>2</td>\n      <td>R$ 3.254</td>\n      <td>Smartphone Apple iPhone 8 256GB 12.0 MP Apple ...</td>\n      <td>em 5 lojas</td>\n    </tr>\n    <tr>\n      <td>3</td>\n      <td>R$ 2.998</td>\n      <td>Smartphone Apple iPhone 8 Plus 64GB Câmera Dup...</td>\n      <td>em 11 lojas</td>\n    </tr>\n    <tr>\n      <td>4</td>\n      <td>R$ 4.399</td>\n      <td>Smartphone Apple iPhone 11 64GB Câmera Dupla A...</td>\n      <td>em 8 lojas</td>\n    </tr>\n    <tr>\n      <td>5</td>\n      <td>R$ 3.648</td>\n      <td>Smartphone Apple iPhone 8 Plus 128GB Câmera Du...</td>\n      <td>em 11 lojas</td>\n    </tr>\n    <tr>\n      <td>6</td>\n      <td>R$ 4.084</td>\n      <td>Smartphone Apple iPhone X 64GB Câmera Dupla Ap...</td>\n      <td>em 5 lojas</td>\n    </tr>\n    <tr>\n      <td>7</td>\n      <td>R$ 3.519</td>\n      <td>Smartphone Apple iPhone 8 Plus 256GB Câmera Du...</td>\n      <td>em 3 lojas</td>\n    </tr>\n    <tr>\n      <td>8</td>\n      <td>R$ 6.159</td>\n      <td>Smartphone Apple iPhone 11 Pro 64GB Câmera Tri...</td>\n      <td>em 8 lojas</td>\n    </tr>\n    <tr>\n      <td>9</td>\n      <td>R$ 1.436</td>\n      <td>Smartphone Apple iPhone 6 6 32GB 32GB 8.0 MP A...</td>\n      <td>em 5 lojas</td>\n    </tr>\n    <tr>\n      <td>10</td>\n      <td>R$ 1.890</td>\n      <td>Novo Smartphone Apple iPhone 6 64GB Câmera 8,0...</td>\n      <td>em 3 lojas</td>\n    </tr>\n    <tr>\n      <td>11</td>\n      <td>R$ 5.680</td>\n      <td>Smartphone Apple iPhone X 256GB Câmera Dupla A...</td>\n      <td>em 4 lojas</td>\n    </tr>\n    <tr>\n      <td>12</td>\n      <td>R$ 6.863</td>\n      <td>Smartphone Apple iPhone 11 Pro 256GB Câmera Tr...</td>\n      <td>em 7 lojas</td>\n    </tr>\n    <tr>\n      <td>13</td>\n      <td>R$ 1.500</td>\n      <td>Novo Smartphone Apple iPhone 6 16GB Câmera iOS...</td>\n      <td>em 4 lojas</td>\n    </tr>\n    <tr>\n      <td>14</td>\n      <td>R$ 5.199</td>\n      <td>Smartphone Apple iPhone XS 64GB Câmera Dupla A...</td>\n      <td>em 8 lojas</td>\n    </tr>\n    <tr>\n      <td>15</td>\n      <td>R$ 5.372</td>\n      <td>Smartphone Apple iPhone XS 256GB Câmera Dupla ...</td>\n      <td>em 10 lojas</td>\n    </tr>\n    <tr>\n      <td>16</td>\n      <td>R$ 1.659</td>\n      <td>Smartphone Apple iPhone 6S 6S 64GB 64GB 12.0 M...</td>\n      <td>em 5 lojas</td>\n    </tr>\n    <tr>\n      <td>17</td>\n      <td>R$ 1.698</td>\n      <td>Smartphone Apple iPhone 6S 6S 16GB 16GB 12.0 M...</td>\n      <td>em 3 lojas</td>\n    </tr>\n    <tr>\n      <td>18</td>\n      <td>R$ 7.919</td>\n      <td>Smartphone Apple iPhone 11 Pro 512GB Câmera Tr...</td>\n      <td>em 4 lojas</td>\n    </tr>\n    <tr>\n      <td>19</td>\n      <td>R$ 3.174</td>\n      <td>Smartphone Apple iPhone XR 64GB 12.0 MP Apple ...</td>\n      <td>em 10 lojas</td>\n    </tr>\n    <tr>\n      <td>20</td>\n      <td>R$ 1.999</td>\n      <td>Smartphone Apple iPhone 7 7 32GB 32GB 12.0 MP ...</td>\n      <td>em 14 lojas</td>\n    </tr>\n    <tr>\n      <td>21</td>\n      <td>R$ 3.695</td>\n      <td>Smartphone Apple iPhone XR 128GB 12.0 MP Apple...</td>\n      <td>em 10 lojas</td>\n    </tr>\n    <tr>\n      <td>22</td>\n      <td>R$ 1.499</td>\n      <td>Smartphone Apple iPhone 6S 6S 32GB 32GB 12.0 M...</td>\n      <td>em 13 lojas</td>\n    </tr>\n    <tr>\n      <td>23</td>\n      <td>R$ 1.091</td>\n      <td>Smartphone Apple iPhone SE SE 32GB 32GB 12.0 M...</td>\n      <td>em 5 lojas</td>\n    </tr>\n    <tr>\n      <td>24</td>\n      <td>R$ 3.699</td>\n      <td>Smartphone Apple iPhone XR Vermelho 64GB 12.0 ...</td>\n      <td>em 4 lojas</td>\n    </tr>\n    <tr>\n      <td>25</td>\n      <td>R$ 4.047</td>\n      <td>Smartphone Apple iPhone XR Vermelho 128GB 12.0...</td>\n      <td>em 5 lojas</td>\n    </tr>\n    <tr>\n      <td>26</td>\n      <td>R$ 7.391</td>\n      <td>Smartphone Apple iPhone 11 Pro Max 256GB Câmer...</td>\n      <td>em 6 lojas</td>\n    </tr>\n    <tr>\n      <td>27</td>\n      <td>R$ 2.499</td>\n      <td>Smartphone Apple iPhone 7 7 128GB 128GB 12.0 M...</td>\n      <td>em 9 lojas</td>\n    </tr>\n    <tr>\n      <td>28</td>\n      <td>R$ 3.400</td>\n      <td>Smartphone Apple iPhone 7 Plus 7 Plus 128GB 12...</td>\n      <td>em 5 lojas</td>\n    </tr>\n    <tr>\n      <td>29</td>\n      <td>R$ 2.199</td>\n      <td>Smartphone Apple iPhone 6S Plus 6S Plus 32GB 3...</td>\n      <td>em 1 lojas</td>\n    </tr>\n    <tr>\n      <td>30</td>\n      <td>R$ 6.687</td>\n      <td>Smartphone Apple iPhone 11 Pro Max 64GB Câmera...</td>\n      <td>em 7 lojas</td>\n    </tr>\n    <tr>\n      <td>31</td>\n      <td>R$ 5.103</td>\n      <td>Smartphone Apple iPhone 11 256GB Câmera Dupla ...</td>\n      <td>em 8 lojas</td>\n    </tr>\n    <tr>\n      <td>32</td>\n      <td>R$ 2.947</td>\n      <td>Smartphone Apple iPhone 7 Plus 7 Plus 32GB 32G...</td>\n      <td>em 6 lojas</td>\n    </tr>\n    <tr>\n      <td>33</td>\n      <td>R$ 4.399</td>\n      <td>Smartphone Apple iPhone XR 256GB 12.0 MP Apple...</td>\n      <td>em 8 lojas</td>\n    </tr>\n    <tr>\n      <td>34</td>\n      <td>R$ 2.479</td>\n      <td>Smartphone Apple iPhone 6S Plus 6S Plus 128GB ...</td>\n      <td>em 3 lojas</td>\n    </tr>\n    <tr>\n      <td>35</td>\n      <td>R$ 8.447</td>\n      <td>Smartphone Apple iPhone 11 Pro Max 512GB Câmer...</td>\n      <td>em 7 lojas</td>\n    </tr>\n  </tbody>\n</table>\n</div>",
      "text/plain": "       price                                               name  store_count\n0   R$ 2.551  Smartphone Apple iPhone 8 64GB 12.0 MP Apple A...  em 14 lojas\n1   R$ 2.903     Smartphone Apple iPhone 8 128GB 12.0 MP iOS 11   em 6 lojas\n2   R$ 3.254  Smartphone Apple iPhone 8 256GB 12.0 MP Apple ...   em 5 lojas\n3   R$ 2.998  Smartphone Apple iPhone 8 Plus 64GB Câmera Dup...  em 11 lojas\n4   R$ 4.399  Smartphone Apple iPhone 11 64GB Câmera Dupla A...   em 8 lojas\n5   R$ 3.648  Smartphone Apple iPhone 8 Plus 128GB Câmera Du...  em 11 lojas\n6   R$ 4.084  Smartphone Apple iPhone X 64GB Câmera Dupla Ap...   em 5 lojas\n7   R$ 3.519  Smartphone Apple iPhone 8 Plus 256GB Câmera Du...   em 3 lojas\n8   R$ 6.159  Smartphone Apple iPhone 11 Pro 64GB Câmera Tri...   em 8 lojas\n9   R$ 1.436  Smartphone Apple iPhone 6 6 32GB 32GB 8.0 MP A...   em 5 lojas\n10  R$ 1.890  Novo Smartphone Apple iPhone 6 64GB Câmera 8,0...   em 3 lojas\n11  R$ 5.680  Smartphone Apple iPhone X 256GB Câmera Dupla A...   em 4 lojas\n12  R$ 6.863  Smartphone Apple iPhone 11 Pro 256GB Câmera Tr...   em 7 lojas\n13  R$ 1.500  Novo Smartphone Apple iPhone 6 16GB Câmera iOS...   em 4 lojas\n14  R$ 5.199  Smartphone Apple iPhone XS 64GB Câmera Dupla A...   em 8 lojas\n15  R$ 5.372  Smartphone Apple iPhone XS 256GB Câmera Dupla ...  em 10 lojas\n16  R$ 1.659  Smartphone Apple iPhone 6S 6S 64GB 64GB 12.0 M...   em 5 lojas\n17  R$ 1.698  Smartphone Apple iPhone 6S 6S 16GB 16GB 12.0 M...   em 3 lojas\n18  R$ 7.919  Smartphone Apple iPhone 11 Pro 512GB Câmera Tr...   em 4 lojas\n19  R$ 3.174  Smartphone Apple iPhone XR 64GB 12.0 MP Apple ...  em 10 lojas\n20  R$ 1.999  Smartphone Apple iPhone 7 7 32GB 32GB 12.0 MP ...  em 14 lojas\n21  R$ 3.695  Smartphone Apple iPhone XR 128GB 12.0 MP Apple...  em 10 lojas\n22  R$ 1.499  Smartphone Apple iPhone 6S 6S 32GB 32GB 12.0 M...  em 13 lojas\n23  R$ 1.091  Smartphone Apple iPhone SE SE 32GB 32GB 12.0 M...   em 5 lojas\n24  R$ 3.699  Smartphone Apple iPhone XR Vermelho 64GB 12.0 ...   em 4 lojas\n25  R$ 4.047  Smartphone Apple iPhone XR Vermelho 128GB 12.0...   em 5 lojas\n26  R$ 7.391  Smartphone Apple iPhone 11 Pro Max 256GB Câmer...   em 6 lojas\n27  R$ 2.499  Smartphone Apple iPhone 7 7 128GB 128GB 12.0 M...   em 9 lojas\n28  R$ 3.400  Smartphone Apple iPhone 7 Plus 7 Plus 128GB 12...   em 5 lojas\n29  R$ 2.199  Smartphone Apple iPhone 6S Plus 6S Plus 32GB 3...   em 1 lojas\n30  R$ 6.687  Smartphone Apple iPhone 11 Pro Max 64GB Câmera...   em 7 lojas\n31  R$ 5.103  Smartphone Apple iPhone 11 256GB Câmera Dupla ...   em 8 lojas\n32  R$ 2.947  Smartphone Apple iPhone 7 Plus 7 Plus 32GB 32G...   em 6 lojas\n33  R$ 4.399  Smartphone Apple iPhone XR 256GB 12.0 MP Apple...   em 8 lojas\n34  R$ 2.479  Smartphone Apple iPhone 6S Plus 6S Plus 128GB ...   em 3 lojas\n35  R$ 8.447  Smartphone Apple iPhone 11 Pro Max 512GB Câmer...   em 7 lojas"
     },
     "execution_count": 11,
     "metadata": {},
     "output_type": "execute_result"
    }
   ],
   "source": [
    "search_result_element = soup.find(\"div\", { \"id\": \"pageSearchResultsBody\" })\n",
    "cards = search_result_element.find_all(\"div\", { \"class\": \"card card--prod\" })\n",
    "\n",
    "smartphones_raw_data = list(map(data_extractor, cards))\n",
    "\n",
    "raw_data_frame = pandas.DataFrame(smartphones_raw_data)\n",
    "raw_data_frame"
   ]
  },
  {
   "cell_type": "markdown",
   "metadata": {},
   "outputs": [],
   "source": [
    "# Formating Data"
   ]
  },
  {
   "cell_type": "code",
   "execution_count": 12,
   "metadata": {},
   "outputs": [],
   "source": [
    "import re as regex\n",
    "from copy import deepcopy\n",
    "\n",
    "def data_parser(smartphone):\n",
    "    smartphone = deepcopy(smartphone)\n",
    "\n",
    "    smartphone[\"price\"] = int(regex.sub(r\"[^0-9]\", \"\", smartphone.get(\"price\"))) * 100\n",
    "    smartphone[\"price_cents\"] = smartphone.pop(\"price\") # Renaming key from \"price\" to \"price_cents\"\n",
    "    smartphone[\"store_count\"] = int(regex.sub(r\"[^0-9]\", \"\", smartphone.get(\"store_count\")))\n",
    "\n",
    "    return smartphone"
   ]
  },
  {
   "cell_type": "code",
   "execution_count": 13,
   "metadata": {},
   "outputs": [
    {
     "data": {
      "text/html": "<div>\n<style scoped>\n    .dataframe tbody tr th:only-of-type {\n        vertical-align: middle;\n    }\n\n    .dataframe tbody tr th {\n        vertical-align: top;\n    }\n\n    .dataframe thead th {\n        text-align: right;\n    }\n</style>\n<table border=\"1\" class=\"dataframe\">\n  <thead>\n    <tr style=\"text-align: right;\">\n      <th></th>\n      <th>name</th>\n      <th>store_count</th>\n      <th>price_cents</th>\n    </tr>\n  </thead>\n  <tbody>\n    <tr>\n      <td>0</td>\n      <td>Smartphone Apple iPhone 8 64GB 12.0 MP Apple A...</td>\n      <td>14</td>\n      <td>255100</td>\n    </tr>\n    <tr>\n      <td>1</td>\n      <td>Smartphone Apple iPhone 8 128GB 12.0 MP iOS 11</td>\n      <td>6</td>\n      <td>290300</td>\n    </tr>\n    <tr>\n      <td>2</td>\n      <td>Smartphone Apple iPhone 8 256GB 12.0 MP Apple ...</td>\n      <td>5</td>\n      <td>325400</td>\n    </tr>\n    <tr>\n      <td>3</td>\n      <td>Smartphone Apple iPhone 8 Plus 64GB Câmera Dup...</td>\n      <td>11</td>\n      <td>299800</td>\n    </tr>\n    <tr>\n      <td>4</td>\n      <td>Smartphone Apple iPhone 11 64GB Câmera Dupla A...</td>\n      <td>8</td>\n      <td>439900</td>\n    </tr>\n    <tr>\n      <td>5</td>\n      <td>Smartphone Apple iPhone 8 Plus 128GB Câmera Du...</td>\n      <td>11</td>\n      <td>364800</td>\n    </tr>\n    <tr>\n      <td>6</td>\n      <td>Smartphone Apple iPhone X 64GB Câmera Dupla Ap...</td>\n      <td>5</td>\n      <td>408400</td>\n    </tr>\n    <tr>\n      <td>7</td>\n      <td>Smartphone Apple iPhone 8 Plus 256GB Câmera Du...</td>\n      <td>3</td>\n      <td>351900</td>\n    </tr>\n    <tr>\n      <td>8</td>\n      <td>Smartphone Apple iPhone 11 Pro 64GB Câmera Tri...</td>\n      <td>8</td>\n      <td>615900</td>\n    </tr>\n    <tr>\n      <td>9</td>\n      <td>Smartphone Apple iPhone 6 6 32GB 32GB 8.0 MP A...</td>\n      <td>5</td>\n      <td>143600</td>\n    </tr>\n    <tr>\n      <td>10</td>\n      <td>Novo Smartphone Apple iPhone 6 64GB Câmera 8,0...</td>\n      <td>3</td>\n      <td>189000</td>\n    </tr>\n    <tr>\n      <td>11</td>\n      <td>Smartphone Apple iPhone X 256GB Câmera Dupla A...</td>\n      <td>4</td>\n      <td>568000</td>\n    </tr>\n    <tr>\n      <td>12</td>\n      <td>Smartphone Apple iPhone 11 Pro 256GB Câmera Tr...</td>\n      <td>7</td>\n      <td>686300</td>\n    </tr>\n    <tr>\n      <td>13</td>\n      <td>Novo Smartphone Apple iPhone 6 16GB Câmera iOS...</td>\n      <td>4</td>\n      <td>150000</td>\n    </tr>\n    <tr>\n      <td>14</td>\n      <td>Smartphone Apple iPhone XS 64GB Câmera Dupla A...</td>\n      <td>8</td>\n      <td>519900</td>\n    </tr>\n    <tr>\n      <td>15</td>\n      <td>Smartphone Apple iPhone XS 256GB Câmera Dupla ...</td>\n      <td>10</td>\n      <td>537200</td>\n    </tr>\n    <tr>\n      <td>16</td>\n      <td>Smartphone Apple iPhone 6S 6S 64GB 64GB 12.0 M...</td>\n      <td>5</td>\n      <td>165900</td>\n    </tr>\n    <tr>\n      <td>17</td>\n      <td>Smartphone Apple iPhone 6S 6S 16GB 16GB 12.0 M...</td>\n      <td>3</td>\n      <td>169800</td>\n    </tr>\n    <tr>\n      <td>18</td>\n      <td>Smartphone Apple iPhone 11 Pro 512GB Câmera Tr...</td>\n      <td>4</td>\n      <td>791900</td>\n    </tr>\n    <tr>\n      <td>19</td>\n      <td>Smartphone Apple iPhone XR 64GB 12.0 MP Apple ...</td>\n      <td>10</td>\n      <td>317400</td>\n    </tr>\n    <tr>\n      <td>20</td>\n      <td>Smartphone Apple iPhone 7 7 32GB 32GB 12.0 MP ...</td>\n      <td>14</td>\n      <td>199900</td>\n    </tr>\n    <tr>\n      <td>21</td>\n      <td>Smartphone Apple iPhone XR 128GB 12.0 MP Apple...</td>\n      <td>10</td>\n      <td>369500</td>\n    </tr>\n    <tr>\n      <td>22</td>\n      <td>Smartphone Apple iPhone 6S 6S 32GB 32GB 12.0 M...</td>\n      <td>13</td>\n      <td>149900</td>\n    </tr>\n    <tr>\n      <td>23</td>\n      <td>Smartphone Apple iPhone SE SE 32GB 32GB 12.0 M...</td>\n      <td>5</td>\n      <td>109100</td>\n    </tr>\n    <tr>\n      <td>24</td>\n      <td>Smartphone Apple iPhone XR Vermelho 64GB 12.0 ...</td>\n      <td>4</td>\n      <td>369900</td>\n    </tr>\n    <tr>\n      <td>25</td>\n      <td>Smartphone Apple iPhone XR Vermelho 128GB 12.0...</td>\n      <td>5</td>\n      <td>404700</td>\n    </tr>\n    <tr>\n      <td>26</td>\n      <td>Smartphone Apple iPhone 11 Pro Max 256GB Câmer...</td>\n      <td>6</td>\n      <td>739100</td>\n    </tr>\n    <tr>\n      <td>27</td>\n      <td>Smartphone Apple iPhone 7 7 128GB 128GB 12.0 M...</td>\n      <td>9</td>\n      <td>249900</td>\n    </tr>\n    <tr>\n      <td>28</td>\n      <td>Smartphone Apple iPhone 7 Plus 7 Plus 128GB 12...</td>\n      <td>5</td>\n      <td>340000</td>\n    </tr>\n    <tr>\n      <td>29</td>\n      <td>Smartphone Apple iPhone 6S Plus 6S Plus 32GB 3...</td>\n      <td>1</td>\n      <td>219900</td>\n    </tr>\n    <tr>\n      <td>30</td>\n      <td>Smartphone Apple iPhone 11 Pro Max 64GB Câmera...</td>\n      <td>7</td>\n      <td>668700</td>\n    </tr>\n    <tr>\n      <td>31</td>\n      <td>Smartphone Apple iPhone 11 256GB Câmera Dupla ...</td>\n      <td>8</td>\n      <td>510300</td>\n    </tr>\n    <tr>\n      <td>32</td>\n      <td>Smartphone Apple iPhone 7 Plus 7 Plus 32GB 32G...</td>\n      <td>6</td>\n      <td>294700</td>\n    </tr>\n    <tr>\n      <td>33</td>\n      <td>Smartphone Apple iPhone XR 256GB 12.0 MP Apple...</td>\n      <td>8</td>\n      <td>439900</td>\n    </tr>\n    <tr>\n      <td>34</td>\n      <td>Smartphone Apple iPhone 6S Plus 6S Plus 128GB ...</td>\n      <td>3</td>\n      <td>247900</td>\n    </tr>\n    <tr>\n      <td>35</td>\n      <td>Smartphone Apple iPhone 11 Pro Max 512GB Câmer...</td>\n      <td>7</td>\n      <td>844700</td>\n    </tr>\n  </tbody>\n</table>\n</div>",
      "text/plain": "                                                 name  store_count  \\\n0   Smartphone Apple iPhone 8 64GB 12.0 MP Apple A...           14   \n1      Smartphone Apple iPhone 8 128GB 12.0 MP iOS 11            6   \n2   Smartphone Apple iPhone 8 256GB 12.0 MP Apple ...            5   \n3   Smartphone Apple iPhone 8 Plus 64GB Câmera Dup...           11   \n4   Smartphone Apple iPhone 11 64GB Câmera Dupla A...            8   \n5   Smartphone Apple iPhone 8 Plus 128GB Câmera Du...           11   \n6   Smartphone Apple iPhone X 64GB Câmera Dupla Ap...            5   \n7   Smartphone Apple iPhone 8 Plus 256GB Câmera Du...            3   \n8   Smartphone Apple iPhone 11 Pro 64GB Câmera Tri...            8   \n9   Smartphone Apple iPhone 6 6 32GB 32GB 8.0 MP A...            5   \n10  Novo Smartphone Apple iPhone 6 64GB Câmera 8,0...            3   \n11  Smartphone Apple iPhone X 256GB Câmera Dupla A...            4   \n12  Smartphone Apple iPhone 11 Pro 256GB Câmera Tr...            7   \n13  Novo Smartphone Apple iPhone 6 16GB Câmera iOS...            4   \n14  Smartphone Apple iPhone XS 64GB Câmera Dupla A...            8   \n15  Smartphone Apple iPhone XS 256GB Câmera Dupla ...           10   \n16  Smartphone Apple iPhone 6S 6S 64GB 64GB 12.0 M...            5   \n17  Smartphone Apple iPhone 6S 6S 16GB 16GB 12.0 M...            3   \n18  Smartphone Apple iPhone 11 Pro 512GB Câmera Tr...            4   \n19  Smartphone Apple iPhone XR 64GB 12.0 MP Apple ...           10   \n20  Smartphone Apple iPhone 7 7 32GB 32GB 12.0 MP ...           14   \n21  Smartphone Apple iPhone XR 128GB 12.0 MP Apple...           10   \n22  Smartphone Apple iPhone 6S 6S 32GB 32GB 12.0 M...           13   \n23  Smartphone Apple iPhone SE SE 32GB 32GB 12.0 M...            5   \n24  Smartphone Apple iPhone XR Vermelho 64GB 12.0 ...            4   \n25  Smartphone Apple iPhone XR Vermelho 128GB 12.0...            5   \n26  Smartphone Apple iPhone 11 Pro Max 256GB Câmer...            6   \n27  Smartphone Apple iPhone 7 7 128GB 128GB 12.0 M...            9   \n28  Smartphone Apple iPhone 7 Plus 7 Plus 128GB 12...            5   \n29  Smartphone Apple iPhone 6S Plus 6S Plus 32GB 3...            1   \n30  Smartphone Apple iPhone 11 Pro Max 64GB Câmera...            7   \n31  Smartphone Apple iPhone 11 256GB Câmera Dupla ...            8   \n32  Smartphone Apple iPhone 7 Plus 7 Plus 32GB 32G...            6   \n33  Smartphone Apple iPhone XR 256GB 12.0 MP Apple...            8   \n34  Smartphone Apple iPhone 6S Plus 6S Plus 128GB ...            3   \n35  Smartphone Apple iPhone 11 Pro Max 512GB Câmer...            7   \n\n    price_cents  \n0        255100  \n1        290300  \n2        325400  \n3        299800  \n4        439900  \n5        364800  \n6        408400  \n7        351900  \n8        615900  \n9        143600  \n10       189000  \n11       568000  \n12       686300  \n13       150000  \n14       519900  \n15       537200  \n16       165900  \n17       169800  \n18       791900  \n19       317400  \n20       199900  \n21       369500  \n22       149900  \n23       109100  \n24       369900  \n25       404700  \n26       739100  \n27       249900  \n28       340000  \n29       219900  \n30       668700  \n31       510300  \n32       294700  \n33       439900  \n34       247900  \n35       844700  "
     },
     "execution_count": 13,
     "metadata": {},
     "output_type": "execute_result"
    }
   ],
   "source": [
    "smartphones_formatted_data = list(map(data_parser, smartphones_raw_data))\n",
    "\n",
    "formatted_data_frame = pandas.DataFrame(smartphones_formatted_data)\n",
    "formatted_data_frame"
   ]
  },
  {
   "cell_type": "markdown",
   "metadata": {},
   "outputs": [],
   "source": [
    "# Exporting data"
   ]
  },
  {
   "cell_type": "code",
   "execution_count": 14,
   "metadata": {},
   "outputs": [],
   "source": [
    "formatted_data_frame.to_csv(\"./formatted.csv\", index=False)\n",
    "raw_data_frame.to_csv(\"./raw.csv\", index=False)"
   ]
  },
  {
   "cell_type": "code",
   "metadata": {},
   "outputs": [],
   "source": []
  },
  {
   "cell_type": "code",
   "metadata": {},
   "outputs": [],
   "source": []
  }
 ]
}