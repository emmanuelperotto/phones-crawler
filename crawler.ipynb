{
 "nbformat": 4,
 "nbformat_minor": 2,
 "metadata": {
  "language_info": {
   "name": "python",
   "codemirror_mode": {
    "name": "ipython",
    "version": 3
   },
   "version": "3.7.4"
  },
  "orig_nbformat": 2,
  "file_extension": ".py",
  "mimetype": "text/x-python",
  "name": "python",
  "npconvert_exporter": "python",
  "pygments_lexer": "ipython3",
  "version": 3
 },
 "cells": [
  {
   "cell_type": "markdown",
   "metadata": {},
   "outputs": [],
   "source": [
    "# Importing Libraries"
   ]
  },
  {
   "cell_type": "code",
   "execution_count": 33,
   "metadata": {},
   "outputs": [],
   "source": [
    "import pandas\n",
    "\n",
    "from urllib.request import Request, urlopen\n",
    "from urllib.error import HTTPError, URLError\n",
    "from bs4 import BeautifulSoup"
   ]
  },
  {
   "cell_type": "markdown",
   "metadata": {},
   "outputs": [],
   "source": [
    "# Requesting for a smartphone info"
   ]
  },
  {
   "cell_type": "code",
   "execution_count": 34,
   "metadata": {},
   "outputs": [],
   "source": [
    "# Treating IncompleteRead errors when requesting\n",
    "# This is a zoom server problem so we need this workaround to keep using zoom\n",
    "# Not necessary if using other sites.\n",
    "from http.client import IncompleteRead\n",
    "\n",
    "def html_reader(response):\n",
    "    try:\n",
    "        return response.read().decode(\"utf-8\")\n",
    "    except IncompleteRead as e:\n",
    "        print(\"error when reading treated\")\n",
    "        return e.partial"
   ]
  },
  {
   "cell_type": "code",
   "execution_count": 35,
   "metadata": {},
   "outputs": [
    {
     "name": "stdout",
     "output_type": "stream",
     "text": "error when reading treated\n"
    },
    {
     "data": {
      "text/plain": "111,3.60161945 L5.96844235,0.317735293 C6.11250453,0.035745241 6.4664385,-0.080250667 6.75898704,0.058811094 C6.87553639,0.114275804 6.96996487,0.205339258 7.02747914,0.317735293 L8.71004804,3.60695259 C8.71571651,3.61761888 8.7266387,3.6246853 8.73908169,3.6256186 L12.4940999,4.15893312 C12.8160968,4.20319822 13.0399324,4.49092141 12.9940316,4.80144379 C12.9757819,4.92570607 12.9150877,5.04063535 12.8217653,5.12823226 L10.0926026,7.68680867 C10.0838925,7.69467506 10.0801596,7.70627465 10.0829247,7.71747425 L10.7299603,11.3333467 C10.7849859,11.6440024 10.5683396,11.938792 10.2462044,11.9919901 C10.2137144,11.9973233 10.1809478,11.9998565 10.1479048,12\"></path></svg></span></span><span style=\"cursor:inherit;display:inline-block;position:relative\"><svg class=\"Rating_star__qjDRP\" height=\"17.4\" stroke-width=\"1\" version=\"1.1\" viewbox=\"0 0 15 13\" width=\"17.4\"><path d=\"M10.1479048,12 C10.0514025,12.0003898 9.95642098,11.9774573 9.87139387,11.9333255 L6.51593395,10.2267191 C6.50459701,10.2213859 6.49132448,10.2213859 6.47998753,10.2267191 L3.12314506,11.9333255 C2.83474418,12.079987 2.47763034,11.9734574 2.32554933,11.6953339 C2.26485519,11.5842712 2.24384036,11.4570757 2.26596123,11.3333467 L2.90331889,7.71747425 C2.90608399,7.70627465 2.9023511,7.69467506 2.893641,7.68680867 L0.178303847,5.12289911 C-0.0547948523,4.90424016 -0.0600485597,4.54465285 0.166690388,4.31972745 C0.257247712,4.22999728 0.376009149,4.17159934 0.504586723,4.15359997 L4.26098746,3.62028546 C4.27343046,3.61935215 4.28435264,3.61228574 4.29002111,3.60161945 L5.96844235,0.317735293 C6.11250453,0.035745241 6.4664385,-0.080250667 6.75898704,0.058811094 C6.87553639,0.114275804 6.96996487,0.205339258 7.02747914,0.317735293 L8.71004804,3.60695259 C8.71571651,3.61761888 8.7266387,3.6246853 8.73908169,3.6256186 L12.4940999,4.15893312 C12.8160968,4.20319822 13.0399324,4.49092141 12.9940316,4.80144379 C12.9757819,4.92570607 12.9150877,5.04063535 12.8217653,5.12823226 L10.0926026,7.68680867 C10.0838925,7.69467506 10.0801596,7.70627465 10.0829247,7.71747425 L10.7299603,11.3333467 C10.7849859,11.6440024 10.5683396,11.938792 10.2462044,11.9919901 C10.2137144,11.9973233 10.1809478,11.9998565 10.1479048,12\"></path></svg><span style=\"display:inline-block;position:absolute;overflow:hidden;top:0;left:0;width:0%\"><svg class=\"Rating_star__qjDRP Rating_full-star__3FO_r\" height=\"17.4\" stroke-width=\"1\" version=\"1.1\" viewbox=\"0 0 15 13\" width=\"17.4\"><path d=\"M10.1479048,12 C10.0514025,12.0003898 9.95642098,11.9774573 9.87139387,11.9333255 L6.51593395,10.2267191 C6.50459701,10.2213859 6.49132448,10.2213859 6.47998753,10.2267191 L3.12314506,11.9333255 C2.83474418,12.079987 2.47763034,11.9734574 2.32554933,11.6953339 C2.26485519,11.5842712 2.24384036,11.4570757 2.26596123,11.3333467 L2.90331889,7.71747425 C2.90608399,7.70627465 2.9023511,7.69467506 2.893641,7.68680867 L0.178303847,5.12289911 C-0.0547948523,4.90424016 -0.0600485597,4.54465285 0.166690388,4.31972745 C0.257247712,4.22999728 0.376009149,4.17159934 0.504586723,4.15359997 L4.26098746,3.62028546 C4.27343046,3.61935215 4.28435264,3.61228574 4.29002111,3.60161945 L5.96844235,0.317735293 C6.11250453,0.035745241 6.4664385,-0.080250667 6.75898704,0.058811094 C6.87553639,0.114275804 6.96996487,0.205339258 7.02747914,0.317735293 L8.71004804,3.60695259 C8.71571651,3.61761888 8.7266387,3.6246853 8.73908169,3.6256186 L12.4940999,4.15893312 C12.8160968,4.20319822 13.0399324,4.49092141 12.9940316,4.80144379 C12.9757819,4.92570607 12.9150877,5.04063535 12.8217653,5.12823226 L10.0926026,7.68680867 C10.0838925,7.69467506 10.0801596,7.70627465 10.0829247,7.71747425 L10.7299603,11.3333467 C10.7849859,11.6440024 10.5683396,11.938792 10.2462044,11.9919901 C10.2137144,11.9973233 10.1809478,11.9998565 10.1479048,12\"></path></svg></span></span><span style=\"cursor:inherit;display:inline-block;position:relative\"><svg class=\"Rating_star__qjDRP\" height=\"17.4\" stroke-width=\"1\" version=\"1.1\" viewbox=\"0 0 15 13\" width=\"17.4\"><path d=\"M10.1479048,12 C10.0514025,12.0003898 9.95642098,11.9774573 9.87139387,11.9333255 L6.51593395,10.2267191 C6.50459701,10.2213859 6.49132448,10.2213859 6.47998753,10.2267191 L3.12314506,11.9333255 C2.83474418,12.079987 2.47763034,11.9734574 2.32554933,11.6953339 C2.26485519,11.5842712 2.24384036,11.4570757 2.26596123,11.3333467 L2.90331889,7.71747425 C2.90608399,7.70627465 2.9023511,7.69467506 2.893641,7.68680867 L0.178303847,5.12289911 C-0.0547948523,4.90424016 -0.0600485597,4.54465285 0.166690388,4.31972745 C0.257247712,4.22999728 0.376009149,4.17159934 0.504586723,4.15359997 L4.26098746,3.62028546 C4.27343046,3.61935215 4.28435264,3.61228574 4.29002111,3.60161945 L5.96844235,0.317735293 C6.11250453,0.035745241 6.4664385,-0.080250667 6.75898704,0.058811094 C6.87553639,0.114275804 6.96996487,0.205339258 7.02747914,0.317735293 L8.71004804,3.60695259 C8.71571651,3.61761888 8.7266387,3.6246853 8.73908169,3.6256186 L12.4940999,4.15893312 C12.8160968,4.20319822 13.0399324,4.49092141 12.9940316,4.80144379 C12.9757819,4.92570607 12.9150877,5.04063535 12.8217653,5.12823226 L10.0926026,7.68680867 C10.0838925,7.69467506 10.0801596,7.70627465 10.0829247,7.71747425 L10.7299603,11.3333467 C10.7849859,11.6440024 10.5683396,11.938792 10.2462044,11.9919901 C10.2137144,11.9973233 10.1809478,11.9998565 10.1479048,12\"></path></svg><span style=\"display:inline-block;position:absolute;overflow:hidden;top:0;left:0;width:0%\"><svg class=\"Rating_star__qjDRP Rating_full-star__3FO_r\" height=\"17.4\" stroke-width=\"1\" version=\"1.1\" viewbox=\"0 0 15 13\" width=\"17.4\"><path d=\"M10.1479048,12 C10.0514025,12.0003898 9.95642098,11.9774573 9.87139387,11.9333255 L6.51593395,10.2267191 C6.50459701,10.2213859 6.49132448,10.2213859 6.47998753,10.2267191 L3.12314506,11.9333255 C2.83474418,12.079987 2.47763034,11.9734574 2.32554933,11.6953339 C2.26485519,11.5842712 2.24384036,11.4570757 2.26596123,11.3333467 L2.90331889,7.71747425 C2.90608399,7.70627465 2.9023511,7.69467506 2.893641,7.68680867 L0.178303847,5.12289911 C-0.0547948523,4.90424016 -0.0600485597,4.54465285 0.166690388,4.31972745 C0.257247712,4.22999728 0.376009149,4.17159934 0.504586723,4.15359997 L4.26098746,3.62028546 C4.27343046,3.61935215 4.28435264,3.61228574 4.29002111,3.60161945 L5.96844235,0.317735293 C6.11250453,0.035745241 6.4664385,-0.080250667 6.75898704,0.058811094 C6.87553639,0.114275804 6.96996487,0.205339258 7.02747914,0.317735293 L8.71004804,3.60695259 C8.71571651,3.61761888 8.7266387,3.6246853 8.73908169,3.6256186 L12.4940999,4.15893312 C12.8160968,4.20319822 13.0399324,4.49092141 12.9940316,4.80144379 C12.9757819,4.92570607 12.9150877,5.04063535 12.8217653,5.12823226 L10.0926026,7.68680867 C10.0838925,7.69467506 10.0801596,7.70627465 10.0829247,7.71747425 L10.7299603,11.3333467 C10.7849859,11.6440024 10.5683396,11.938792 10.2462044,11.9919901 C10.2137144,11.9973233 10.1809478,11.9998565 10.1479048,12\"></path></svg></span></span><span style=\"cursor:inherit;display:inline-block;position:relative\"><svg class=\"Rating_star__qjDRP\" height=\"17.4\" stroke-width=\"1\" version=\"1.1\" viewbox=\"0 0 15 13\" width=\"17.4\"><path d=\"M10.1479048,12 C10.0514025,12.0003898 9.95642098,11.9774573 9.87139387,11.9333255 L6.51593395,10.2267191 C6.50459701,10.2213859 6.49132448,10.2213859 6.47998753,10.2267191 L3.12314506,11.9333255 C2.83474418,12.079987 2.47763034,11.9734574 2.32554933,11.6953339 C2.26485519,11.5842712 2.24384036,11.4570757 2.26596123,11.3333467 L2.90331889,7.71747425 C2.90608399,7.70627465 2.9023511,7.69467506 2.893641,7.68680867 L0.178303847,5.12289911 C-0.0547948523,4.90424016 -0.0600485597,4.54465285 0.166690388,4.31972745 C0.257247712,4.22999728 0.376009149,4.17159934 0.504586723,4.15359997 L4.26098746,3.62028546 C4.27343046,3.61935215 4.28435264,3.61228574 4.29002111,3.60161945 L5.96844235,0.317735293 C6.11250453,0.035745241 6.4664385,-0.080250667 6.75898704,0.058811094 C6.87553639,0.114275804 6.96996487,0.205339258 7.02747914,0.317735293 L8.71004804,3.60695259 C8.71571651,3.61761888 8.7266387,3.6246853 8.73908169,3.6256186 L12.4940999,4.15893312 C12.8160968,4.20319822 13.0399324,4.49092141 12.9940316,4.80144379 C12.9757819,4.92570607 12.9150877,5.04063535 12.8217653,5.12823226 L10.0926026,7.68680867 C10.0838925,7.69467506 10.0801596,7.70627465 10.0829247,7.71747425 L10.7299603,11.3333467 C10.7849859,11.6440024 10.5683396,11.938792 10.2462044,11.9919901 C10.2137144,11.9973233 10.1809478,11.9998565 10.1479048,12\"></path></svg><span style=\"display:inline-block;position:absolute;overflow:hidden;top:0;left:0;width:0%\"><svg class=\"Rating_star__qjDRP Rating_full-star__3FO_r\" height=\"17.4\" stroke-width=\"1\" version=\"1.1\" viewbox=\"0 0 15 13\" width=\"17.4\"><path d=\"M10.1479048,12 C10.0514025,12.0003898 9.95642098,11.9774573 9.87139387,11.9333255 L6.51593395,10.2267191 C6.50459701,10.2213859 6.49132448,10.2213859 6.47998753,10.2267191 L3.12314506,11.9333255 C2.83474418,12.079987 2.47763034,11.9734574 2.32554933,11.6953339 C2.26485519,11.5842712 2.24384036,11.4570757 2.26596123,11.3333467 L2.90331889,7.71747425 C2.90608399,7.70627465 2.9023511,7.69467506 2.893641,7.68680867 L0.178303847,5.12289911 C-0.0547948523,4.90424016 -0.0600485597,4.54465285 0.166690388,4.31972745 C0.257247712,4.22999728 0.376009149,4.17159934 0.504586723,4.15359997 L4.26098746,3.62028546 C4.27343046,3.61935215 4.28435264,3.61228574 4.29002111,3.60161945 L5.96844235,0.317735293 C6.11250453,0.035745241 6.4664385,-0.080250667 6.75898704,0.058811094 C6.87553639,0.114275804 6.96996487,0.205339258 7.02747914,0.317735293 L8.71004804,3.60695259 C8.71571651,3.61761888 8.7266387,3.6246853 8.73908169,3.6256186 L12.4940999,4.15893312 C12.8160968,4.20319822 13.0399324,4.49092141 12.9940316,4.80144379 C12.9757819,4.92570607 12.9150877,5.04063535 12.8217653,5.12823226 L10.0926026,7.68680867 C10.0838925,7.69467506 10.0801596,7.70627465 10.0829247,7.71747425 L10.7299603,11.3333467 C10.7849859,11.6440024 10.5683396,11.938792 10.2462044,11.9919901 C10.2137144,11.9973233 10.1809478,11.9998565 10.1479048,12\"></path></svg></span></span></span><span class=\"Rating_votes-counter__37pIK\">99</span></div><div class=\"cardInfo\"><div class=\"priceArea\"><span class=\"priceLabel\">a partir de:</span><div class=\"priceWrapper\"><a class=\"price\" href=\"/celular/smartphone-apple-iphone-11-64gb-ios\" rel=\"nofollow\"><span class=\"customValue\"><span class=\"mainValue\">R$ 4.054</span><span class=\"centsValue\">,41</span></span></a><a class=\"storeCount\" href=\"/celular/smartphone-apple-iphone-11-64gb-ios\" rel=\"nofollow\">em 8 lojas</a></div></div></div><div class=\"cardFooter\"><a class=\"Button_button__3nfZN Button_system__2LJjZ card__lead-button\" href=\"/celular/smartphone-apple-iphone-11-64gb-ios\" modifiers=\"system\">Ver preços</a></div></div></div><div class=\"card card--prod\" data-id=\"product2222707\"><div class=\"seals-container\"></div><a class=\"cardImage\" href=\"/celular/smartphone-apple-iphone-8-plus-256gb-4g\" rel=\"nofollow\"><img alt=\"Smartphone Apple iPhone 8 Plus 256GB Câmera Dupla Apple A11 Bionic iOS 11\" class=\"image\" src=\"https://i.zst.com.br/images/smartphone-apple-iphone-8-plus-256gb-camera-dupla-apple-a11-bionic-ios-11-photo208847968-45-2f-1b.jpg\"/></a><div class=\"cardBody\"><a class=\"name\" href=\"/celular/smartphone-apple-iphone-8-plus-256gb-4g\" rel=\"nofollow\">Smartphone Apple iPhone 8 Plus 256GB Câmera Dupla Apple A11 Bionic iOS 11</a><div class=\"rating\" role=\"button\" tabindex=\"0\"><span style=\"display:inline-block;direction:ltr\"><span style=\"cursor:inherit;display:inline-block;position:relative\"><svg class=\"Rating_star__qjDRP\" height=\"17.4\" stroke-width=\"1\" version=\"1.1\" viewbox=\"0 0 15 13\" width=\"17.4\"><path d=\"M10.1479048,12 C10.0514025,12.0003898 9.95642098,11.9774573 9.87139387,11.9333255 L6.51593395,10.2267191 C6.50459701,10.2213859 6.49132448,10.2213859 6.47998753,10.2267191 L3.12314506,11.9333255 C2.83474418,12.079987 2.47763034,11.9734574 2.32554933,11.6953339 C2.26485519,11.5842712 2.24384036,11.4570757 2.26596123,11.3333467 L2.90331889,7.71747425 C2.90608399,7.70627465 2.9023511,7.69467506 2.893641,7.68680867 L0.178303847,5.12289911 C-0.0547948523,4.90424016 -0.0600485597,4.54465285 0.166690388,4.31972745 C0.257247712,4.22999728 0.376009149,4.17159934 0.504586723,4.15359997 L4.26098746,3.62028546 C4.27343046,3.61935215 4.28435264,3.61228574 4.29002111,3.60161945 L5.96844235,0.317735293 C6.11250453,0.035745241 6.4664385,-0.080250667 6.75898704,0.058811094 C6.87553639,0.114275804 6.96996487,0.205339258 7.02747914,0.317735293 L8.71004804,3.60695259 C8.71571651,3.61761888 8.7266387,3.6246853 8.73908169,3.6256186 L12.4940999,4.15893312 C12.8160968,4.20319822 13.0399324,4.49092141 12.9940316,4.80144379 C12.9757819,4.92570607 12.9150877,5.04063535 12.8217653,5.12823226 L10.0926026,7.68680867 C10.0838925,7.69467506 10.0801596,7.70627465 10.0829247,7.71747425 L10.7299603,11.3333467 C10.7849859,11.6440024 10.5683396,11.938792 10.2462044,11.9919901 C10.2137144,11.9973233 10.1809478,11.9998565 10.1479048,12\"></path></svg><span style=\"display:inline-block;position:absolute;overflow:hidden;top:0;left:0;width:100%\"><svg class=\"Rating_star__qjDRP Rating_full-star__3FO_r\" height=\"17.4\" stroke-width=\"1\" version=\"1.1\" viewbox=\"0 0 15 13\" width=\"17.4\"><path d=\"M10.1479048,12 C10.0514025,12.0003898 9.95642098,11.9774573 9.87139387,11.9333255 L6.51593395,10.2267191 C6.50459701,10.2213859 6.49132448,10.2213859 6.47998753,10.2267191 L3.12314506,11.9333255 C2.83474418,12.079987 2.47763034,11.9734574 2.32554933,11.6953339 C2.26485519,11.5842712 2.24384036,11.4570757 2.26596123,11.3333467 L2.90331889,7.71747425 C2.90608399,7.70627465 2.9023511,7.69467506 2.893641,7.68680867 L0.178303847,5.12289911 C-0.0547948523,4.90424016 -0.0600485597,4.54465285 0.166690388,4.31972745 C0.257247712,4.22999728 0.376009149,4.17159934 0.504586723,4.15359997 L4.26098746,3.62028546 C4.27343046,3.61935215 4.28435264,3.61228574 4.29002111,3.60161945 L5.96844235,0.317735293 C6.11250453,0.035745241 6.4664385,-0.080250667 6.75898704,0.058811094 C6.87553639,0.114275804 6.96996487,0.205339258 7.02747914,0.317735293 L8.71004804,3.60695259 C8.71571651,3.61761888 8.7266387,3.6246853 8.73908169,3.6256186 L12.4940999,4.15893312 C12.8160968,4.20319822 13.0399324,4.49092141 12.9940316,4.80144379 C12.9757819,4.92570607 12.9150877,5.04063535 12.8217653,5.12823226 L10.0926026,7.68680867 C10.0838925,7.69467506 10.0801596,7.70627465 10.0829247,7.71747425 L10.7299603,11.3333467 C10.7849859,11.6440024 10.5683396,11.938792 10.2462044,11.9919901 C10.2137144,11.9973233 10.1809478,11.9998565 10.1479048,12\"></path></svg></span></span><span style=\"cursor:inherit;display:inline-block;position:relative\"><svg class=\"Rating_star__qjDRP\" height=\"17.4\" stroke-width=\"1\" version=\"1.1\" viewbox=\"0 0 15 13\" width=\"17.4\"><path d=\"M10.1479048,12 C10.0514025,12.0003898 9.95642098,11.9774573 9.87139387,11.9333255 L6.51593395,10.2267191 C6.50459701,10.2213859 6.49132448,10.2213859 6.47998753,10.2267191 L3.12314506,11.9333255 C2.83474418,12.079987 2.47763034,11.9734574 2.32554933,11.6953339 C2.26485519,11.5842712 2.24384036,11.4570757 2.26596123,11.3333467 L2.90331889,7.71747425 C2.90608399,7.70627465 2.9023511,7.69467506 2.893641,7.68680867 L0.178303847,5.12289911 C-0.0547948523,4.90424016 -0.0600485597,4.54465285 0.166690388,4.31972745 C0.257247712,4.22999728 0.376009149,4.17159934 0.504586723,4.15359997 L4.26098746,3.62028546 C4.27343046,3.61935215 4.28435264,3.61228574 4.29002111,3.60161945 L5.96844235,0.317735293 C6.11250453,0.035745241 6.4664385,-0.080250667 6.75898704,0.058811094 C6.87553639,0.114275804 6.96996487,0.205339258 7.02747914,0.317735293 L8.71004804,3.60695259 C8.71571651,3.61761888 8.7266387,3.6246853 8.73908169,3.6256186 L12.4940999,4.15893312 C12.8160968,4.20319822 13.0399324,4.49092141 12.9940316,4.80144379 C12.9757819,4.92570607 12.9150877,5.04063535 12.8217653,5.12823226 L10.0926026,7.68680867 C10.0838925,7.69467506 10.0801596,7.70627465 10.0829247,7.71747425 L10.7299603,11.3333467 C10.7849859,11.6440024 10.5683396,11.938792 10.2462044,11.9919901 C10.2137144,11.9973233 10.1809478,11.9998565 10.1479048,12\"></path></svg><span style=\"display:inline-block;position:absolute;overflow:hidden;top:0;left:0;width:100%\"><svg class=\"Rating_star__qjDRP Rating_full-star__3FO_r\" height=\"17.4\" stroke-width=\"1\" version=\"1.1\" viewbox=\"0 0 15 13\" width=\"17.4\"><path d=\"M10.1479048,12 C10.0514025,12.0003898 9.95642098,11.9774573 9.87139387,11.9333255 L6.51593395,10.2267191 C6.50459701,10.2213859 6.49132448,10.2213859 6.47998753,10.2267191 L3.12314506,11.9333255 C2.83474418,12.079987 2.47763034,11.9734574 2.32554933,11.6953339 C2.26485519,11.5842712 2.24384036,11.4570757 2.26596123,11.3333467 L2.90331889,7.71747425 C2.90608399,7.70627465 2.9023511,7.69467506 2.893641,7.68680867 L0.178303847,5.12289911 C-0.0547948523,4.90424016 -0.0600485597,4.54465285 0.166690388,4.31972745 C0.257247712,4.22999728 0.376009149,4.17159934 0.504586723,4.15359997 L4.26098746,3.62028546 C4.27343046,3.61935215 4.28435264,3.61228574 4.29002111,3.60161945 L5.96844235,0.317735293 C6.11250453,0.035745241 6.4664385,-0.080250667 6.75898704,0.058811094 C6.87553639,0.114275804 6.96996487,0.205339258 7.02747914,0.317735293 L8.71004804,3.60695259 C8.71571651,3.61761888 8.7266387,3.6246853 8.73908169,3.6256186 L12.4940999,4.15893312 C12.8160968,4.20319822 13.0399324,4.49092141 12.9940316,4.80144379 C12.9757819,4.92570607 12.9150877,5.04063535 12.8217653,5.12823226 L10.0926026,7.68680867 C10.0838925,7.69467506 10.0801596,7.70627465 10.0829247,7.71747425 L10.7299603,11.3333467 C10.7849859,11.6440024 10.5683396,11.938792 10.2462044,11.9919901 C10.2137144,11.9973233 10.1809478,11.9998565 10.1479048,12\"></path></svg></span></span><span style=\"cursor:inherit;display:inline-block;position:relative\"><svg class=\"Rating_star__qjDRP\" height=\"17.4\" stroke-width=\"1\" version=\"1.1\" viewbox=\"0 0 15 13\" width=\"17.4\"><path d=\"M10.1479048,12 C10.0514025,12.0003898 9.95642098,11.9774573 9.87139387,11.9333255 L6.51593395,10.2267191 C6.50459701,10.2213859 6.49132448,10.2213859 6.47998753,10.2267191 L3.12314506,11.9333255 C2.83474418,12.079987 2.47763034,11.9734574 2.32554933,11.6953339 C2.26485519,11.5842712 2.24384036,11.4570757 2.26596123,11.3333467 L2.90331889,7.71747425 C2.90608399,7.70627465 2.9023511,7.69467506 2.893641,7.68680867 L0.178303847,5.12289911 C-0.0547948523,4.90424016 -0.0600485597,4.54465285 0.166690388,4.31972745 C0.257247712,4.22999728 0.376009149,4.17159934 0.504586723,4.15359997 L4.26098746,3.62028546 C4.27343046,3.61935215 4.28435264,3.61228574 4.29002111,3.60161945 L5.96844235,0.317735293 C6.11250453,0.035745241 6.4664385,-0.080250667 6.75898704,0.058811094 C6.87553639,0.114275804 6.96996487,0.205339258 7.02747914,0.317735293 L8.71004804,3.60695259 C8.71571651,3.61761888 8.7266387,3.6246853 8.73908169,3.6256186 L12.4940999,4.15893312 C12.8160968,4.20319822 13.0399324,4.49092141 12.9940316,4.80144379 C12.9757819,4.92570607 12.9150877,5.04063535 12.8217653,5.12823226 L10.0926026,7.68680867 C10.0838925,7.69467506 10.0801596,7.70627465 10.0829247,7.71747425 L10.7299603,11.3333467 C10.7849859,11.6440024 10.5683396,11.938792 10.2462044,11.9919901 C10.2137144,11.9973233 10.1809478,11.9998565 10.1479048,12\"></path></svg><span style=\"display:inline-block;position:absolute;overflow:hidden;top:0;left:0;width:100%\"><svg class=\"Rating_star__qjDRP Rating_full-star__3FO_r\" height=\"17.4\" stroke-width=\"1\" version=\"1.1\" viewbox=\"0 0 15 13\" width=\"17.4\">&lt;path d=\"M10.1479048,12 C10.0514025,12.0003898 9.95642098,11.9774573 9.87139387,11.9333255 L6.51593395,10.2267191 C6.50459701,10.2213859 6.49132448,10.2213859 6.47998753,10.2267191 L3.12314506,11.9333255 C2.83474418,12.079987 2.47763034,11.9734574 2.32554933,11.6953339 C2.26485519,11.5842712 2.24384036,11.4570757 2.26596123,11.3333467 L2.90331889,7.71747425 C2.90608399,7.70627465 2.9023511,7.69467506 2.893641,7.68680867 L0.178303847,5.12289911 C-0.0547948523,4.90424016 -0.0600485597,4.54465285 0.166690388,4.31972745 C0.257247712,4.22999728 0.376009149,4.17159934 0.50</svg></span></span></span></div></div></div></div></div></div></div></body></html>"
     },
     "execution_count": 35,
     "metadata": {},
     "output_type": "execute_result"
    }
   ],
   "source": [
    "from urllib.parse import urlencode\n",
    "\n",
    "def request_smartphone_info(device_model):\n",
    "    search_params = { \"q\": device_model }\n",
    "    base_url = f\"https://www.zoom.com.br/search?{urlencode(search_params)}\"\n",
    "    headers = { \"User-Agent\": \"Mozilla/5.0 (Macintosh; Intel Mac OS X 10_15_1) AppleWebKit/537.36 (KHTML, like Gecko) Chrome/78.0.3904.108 Safari/537.36\" }\n",
    "\n",
    "    try:\n",
    "        request = Request(base_url, headers=headers)\n",
    "        response = urlopen(request)\n",
    "        html = html_reader(response)\n",
    "        return BeautifulSoup(html, \"html.parser\")\n",
    "    except HTTPError as error:\n",
    "        print(f\"HTTPError: {error}\")\n",
    "    except URLError as error:\n",
    "        print(f\"URLError: {error}\")    \n",
    "    except Exception as exception:\n",
    "        print(f\"Exception: {exception}\")\n",
    "\n",
    "soup = request_smartphone_info(\"moto g7\")\n",
    "soup"
   ]
  },
  {
   "cell_type": "markdown",
   "metadata": {},
   "outputs": [],
   "source": [
    "# Extracting Raw Data"
   ]
  },
  {
   "cell_type": "code",
   "execution_count": 36,
   "metadata": {},
   "outputs": [],
   "source": [
    "def data_extractor(card):\n",
    "    price_element = card.find(\"span\", { \"class\": \"mainValue\" })\n",
    "    name_element = card.find(\"a\", { \"class\": \"name\" })\n",
    "    store_count_element = card.find(\"a\", { \"class\": \"storeCount\" })\n",
    "\n",
    "    return { \n",
    "        \"price\": price_element.get_text() if price_element else None,\n",
    "        \"name\": name_element.get_text() if name_element else None,\n",
    "        \"store_count\": store_count_element.get_text() if store_count_element else None\n",
    "    }"
   ]
  },
  {
   "cell_type": "code",
   "execution_count": 37,
   "metadata": {},
   "outputs": [
    {
     "data": {
      "text/html": "<div>\n<style scoped>\n    .dataframe tbody tr th:only-of-type {\n        vertical-align: middle;\n    }\n\n    .dataframe tbody tr th {\n        vertical-align: top;\n    }\n\n    .dataframe thead th {\n        text-align: right;\n    }\n</style>\n<table border=\"1\" class=\"dataframe\">\n  <thead>\n    <tr style=\"text-align: right;\">\n      <th></th>\n      <th>price</th>\n      <th>name</th>\n      <th>store_count</th>\n    </tr>\n  </thead>\n  <tbody>\n    <tr>\n      <td>0</td>\n      <td>R$ 2.551</td>\n      <td>Smartphone Apple iPhone 8 64GB 12.0 MP Apple A...</td>\n      <td>em 16 lojas</td>\n    </tr>\n    <tr>\n      <td>1</td>\n      <td>R$ 2.551</td>\n      <td>Smartphone Apple iPhone 8 128GB 12.0 MP Apple ...</td>\n      <td>em 8 lojas</td>\n    </tr>\n    <tr>\n      <td>2</td>\n      <td>R$ 3.254</td>\n      <td>Smartphone Apple iPhone 8 256GB 12.0 MP Apple ...</td>\n      <td>em 9 lojas</td>\n    </tr>\n    <tr>\n      <td>3</td>\n      <td>R$ 2.006</td>\n      <td>Smartphone Apple iPhone 8 Usado 64GB 12.0 MP i...</td>\n      <td>em 1 lojas</td>\n    </tr>\n    <tr>\n      <td>4</td>\n      <td>R$ 2.969</td>\n      <td>Smartphone Apple iPhone 8 Plus 64GB Câmera Dup...</td>\n      <td>em 12 lojas</td>\n    </tr>\n    <tr>\n      <td>5</td>\n      <td>R$ 4.054</td>\n      <td>Smartphone Apple iPhone 11 64GB Câmera Dupla A...</td>\n      <td>em 8 lojas</td>\n    </tr>\n    <tr>\n      <td>6</td>\n      <td>None</td>\n      <td>Smartphone Apple iPhone 8 Plus 256GB Câmera Du...</td>\n      <td>None</td>\n    </tr>\n  </tbody>\n</table>\n</div>",
      "text/plain": "      price                                               name  store_count\n0  R$ 2.551  Smartphone Apple iPhone 8 64GB 12.0 MP Apple A...  em 16 lojas\n1  R$ 2.551  Smartphone Apple iPhone 8 128GB 12.0 MP Apple ...   em 8 lojas\n2  R$ 3.254  Smartphone Apple iPhone 8 256GB 12.0 MP Apple ...   em 9 lojas\n3  R$ 2.006  Smartphone Apple iPhone 8 Usado 64GB 12.0 MP i...   em 1 lojas\n4  R$ 2.969  Smartphone Apple iPhone 8 Plus 64GB Câmera Dup...  em 12 lojas\n5  R$ 4.054  Smartphone Apple iPhone 11 64GB Câmera Dupla A...   em 8 lojas\n6      None  Smartphone Apple iPhone 8 Plus 256GB Câmera Du...         None"
     },
     "execution_count": 37,
     "metadata": {},
     "output_type": "execute_result"
    }
   ],
   "source": [
    "search_result_element = soup.find(\"div\", { \"id\": \"pageSearchResultsBody\" })\n",
    "cards = search_result_element.find_all(\"div\", { \"class\": \"card card--prod\" })\n",
    "\n",
    "smartphones_raw_data = list(map(data_extractor, cards))\n",
    "\n",
    "raw_data_frame = pandas.DataFrame(smartphones_raw_data)\n",
    "raw_data_frame"
   ]
  },
  {
   "cell_type": "markdown",
   "metadata": {},
   "outputs": [],
   "source": [
    "# Formating Data"
   ]
  },
  {
   "cell_type": "code",
   "execution_count": 38,
   "metadata": {},
   "outputs": [],
   "source": [
    "import re as regex\n",
    "from copy import deepcopy\n",
    "\n",
    "def data_parser(smartphone):\n",
    "    try:\n",
    "\n",
    "        smartphone = deepcopy(smartphone)\n",
    "\n",
    "        smartphone[\"price\"] = int(regex.sub(r\"[^0-9]\", \"\", smartphone.get(\"price\"))) * 100 if smartphone.get(\"price\") else None\n",
    "        smartphone[\"price_cents\"] = smartphone.pop(\"price\") # Renaming key from \"price\" to \"price_cents\"\n",
    "        smartphone[\"store_count\"] = int(regex.sub(r\"[^0-9]\", \"\", smartphone.get(\"store_count\"))) if smartphone.get(\"store_count\") else None\n",
    "\n",
    "        return smartphone\n",
    "    except Exception as e:\n",
    "        print(f\"Exception: {e}\")\n",
    "        print(f\"smartphone: {smartphone}\")"
   ]
  },
  {
   "cell_type": "code",
   "execution_count": 39,
   "metadata": {},
   "outputs": [
    {
     "data": {
      "text/html": "<div>\n<style scoped>\n    .dataframe tbody tr th:only-of-type {\n        vertical-align: middle;\n    }\n\n    .dataframe tbody tr th {\n        vertical-align: top;\n    }\n\n    .dataframe thead th {\n        text-align: right;\n    }\n</style>\n<table border=\"1\" class=\"dataframe\">\n  <thead>\n    <tr style=\"text-align: right;\">\n      <th></th>\n      <th>name</th>\n      <th>store_count</th>\n      <th>price_cents</th>\n    </tr>\n  </thead>\n  <tbody>\n    <tr>\n      <td>0</td>\n      <td>Smartphone Apple iPhone 8 64GB 12.0 MP Apple A...</td>\n      <td>16.0</td>\n      <td>255100.0</td>\n    </tr>\n    <tr>\n      <td>1</td>\n      <td>Smartphone Apple iPhone 8 128GB 12.0 MP Apple ...</td>\n      <td>8.0</td>\n      <td>255100.0</td>\n    </tr>\n    <tr>\n      <td>2</td>\n      <td>Smartphone Apple iPhone 8 256GB 12.0 MP Apple ...</td>\n      <td>9.0</td>\n      <td>325400.0</td>\n    </tr>\n    <tr>\n      <td>3</td>\n      <td>Smartphone Apple iPhone 8 Usado 64GB 12.0 MP i...</td>\n      <td>1.0</td>\n      <td>200600.0</td>\n    </tr>\n    <tr>\n      <td>4</td>\n      <td>Smartphone Apple iPhone 8 Plus 64GB Câmera Dup...</td>\n      <td>12.0</td>\n      <td>296900.0</td>\n    </tr>\n    <tr>\n      <td>5</td>\n      <td>Smartphone Apple iPhone 11 64GB Câmera Dupla A...</td>\n      <td>8.0</td>\n      <td>405400.0</td>\n    </tr>\n    <tr>\n      <td>6</td>\n      <td>Smartphone Apple iPhone 8 Plus 256GB Câmera Du...</td>\n      <td>NaN</td>\n      <td>NaN</td>\n    </tr>\n  </tbody>\n</table>\n</div>",
      "text/plain": "                                                name  store_count  price_cents\n0  Smartphone Apple iPhone 8 64GB 12.0 MP Apple A...         16.0     255100.0\n1  Smartphone Apple iPhone 8 128GB 12.0 MP Apple ...          8.0     255100.0\n2  Smartphone Apple iPhone 8 256GB 12.0 MP Apple ...          9.0     325400.0\n3  Smartphone Apple iPhone 8 Usado 64GB 12.0 MP i...          1.0     200600.0\n4  Smartphone Apple iPhone 8 Plus 64GB Câmera Dup...         12.0     296900.0\n5  Smartphone Apple iPhone 11 64GB Câmera Dupla A...          8.0     405400.0\n6  Smartphone Apple iPhone 8 Plus 256GB Câmera Du...          NaN          NaN"
     },
     "execution_count": 39,
     "metadata": {},
     "output_type": "execute_result"
    }
   ],
   "source": [
    "smartphones_formatted_data = list(map(data_parser, smartphones_raw_data))\n",
    "\n",
    "formatted_data_frame = pandas.DataFrame(smartphones_formatted_data)\n",
    "formatted_data_frame"
   ]
  },
  {
   "cell_type": "markdown",
   "metadata": {},
   "outputs": [],
   "source": [
    "# Exporting data"
   ]
  },
  {
   "cell_type": "code",
   "execution_count": 40,
   "metadata": {},
   "outputs": [],
   "source": [
    "formatted_data_frame.to_csv(\"./formatted.csv\", index=False)\n",
    "raw_data_frame.to_csv(\"./raw.csv\", index=False)"
   ]
  },
  {
   "cell_type": "code",
   "metadata": {},
   "outputs": [],
   "source": []
  },
  {
   "cell_type": "code",
   "metadata": {},
   "outputs": [],
   "source": []
  }
 ]
}