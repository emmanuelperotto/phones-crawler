{
 "nbformat": 4,
 "nbformat_minor": 2,
 "metadata": {
  "language_info": {
   "name": "python",
   "codemirror_mode": {
    "name": "ipython",
    "version": 3
   },
   "version": "3.7.4"
  },
  "orig_nbformat": 2,
  "file_extension": ".py",
  "mimetype": "text/x-python",
  "name": "python",
  "npconvert_exporter": "python",
  "pygments_lexer": "ipython3",
  "version": 3
 },
 "cells": [
  {
   "cell_type": "code",
   "execution_count": 1,
   "metadata": {},
   "outputs": [],
   "source": [
    "import pandas"
   ]
  },
  {
   "cell_type": "code",
   "execution_count": 2,
   "metadata": {},
   "outputs": [],
   "source": [
    "devices = pandas.read_csv(\"./files/search_result.csv\")"
   ]
  },
  {
   "cell_type": "code",
   "execution_count": 3,
   "metadata": {},
   "outputs": [
    {
     "data": {
      "text/html": "<div>\n<style scoped>\n    .dataframe tbody tr th:only-of-type {\n        vertical-align: middle;\n    }\n\n    .dataframe tbody tr th {\n        vertical-align: top;\n    }\n\n    .dataframe thead th {\n        text-align: right;\n    }\n</style>\n<table border=\"1\" class=\"dataframe\">\n  <thead>\n    <tr style=\"text-align: right;\">\n      <th></th>\n      <th>name</th>\n      <th>store_count</th>\n      <th>device_model_searched</th>\n      <th>price_cents</th>\n    </tr>\n  </thead>\n  <tbody>\n    <tr>\n      <td>0</td>\n      <td>Smartphone Motorola Moto G G4 Plus Usado 32GB ...</td>\n      <td>1.0</td>\n      <td>Moto G4 Plus</td>\n      <td>40400.0</td>\n    </tr>\n    <tr>\n      <td>1</td>\n      <td>Smartphone Motorola Moto G4 Plus XT1640 16,0 M...</td>\n      <td>3.0</td>\n      <td>Moto G4 Plus</td>\n      <td>72900.0</td>\n    </tr>\n    <tr>\n      <td>2</td>\n      <td>Smartphone Samsung Galaxy S7 SM-G930F 32GB 12....</td>\n      <td>5.0</td>\n      <td>Galaxy S7</td>\n      <td>199900.0</td>\n    </tr>\n    <tr>\n      <td>3</td>\n      <td>Smartphone Samsung Galaxy S7 Edge SM-G935F 32G...</td>\n      <td>4.0</td>\n      <td>Galaxy S7</td>\n      <td>249500.0</td>\n    </tr>\n    <tr>\n      <td>4</td>\n      <td>Smartphone Samsung Galaxy S7 Usado 32GB 12.0 M...</td>\n      <td>1.0</td>\n      <td>Galaxy S7</td>\n      <td>68300.0</td>\n    </tr>\n    <tr>\n      <td>...</td>\n      <td>...</td>\n      <td>...</td>\n      <td>...</td>\n      <td>...</td>\n    </tr>\n    <tr>\n      <td>6183</td>\n      <td>Smartphone Xiaomi Redmi Note 4X 32GB Qualcomm ...</td>\n      <td>1.0</td>\n      <td>Redmi 8</td>\n      <td>101900.0</td>\n    </tr>\n    <tr>\n      <td>6184</td>\n      <td>Smartphone Xiaomi Redmi 5 Plus 32GB 12.0 MP Qu...</td>\n      <td>1.0</td>\n      <td>Redmi 8</td>\n      <td>119900.0</td>\n    </tr>\n    <tr>\n      <td>6185</td>\n      <td>Smartphone LG K40S LMX430BMW 32GB Câmera Dupla...</td>\n      <td>11.0</td>\n      <td>LG K40S</td>\n      <td>62800.0</td>\n    </tr>\n    <tr>\n      <td>6186</td>\n      <td>Smartphone Samsung Galaxy A30s SM-A307G 64GB C...</td>\n      <td>17.0</td>\n      <td>Galaxy A30s</td>\n      <td>127500.0</td>\n    </tr>\n    <tr>\n      <td>6187</td>\n      <td>Smartphone Motorola MotorolaOne Macro 64GB Câm...</td>\n      <td>12.0</td>\n      <td>motorola one macro</td>\n      <td>101900.0</td>\n    </tr>\n  </tbody>\n</table>\n<p>2759 rows × 4 columns</p>\n</div>",
      "text/plain": "                                                   name  store_count  \\\n0     Smartphone Motorola Moto G G4 Plus Usado 32GB ...          1.0   \n1     Smartphone Motorola Moto G4 Plus XT1640 16,0 M...          3.0   \n2     Smartphone Samsung Galaxy S7 SM-G930F 32GB 12....          5.0   \n3     Smartphone Samsung Galaxy S7 Edge SM-G935F 32G...          4.0   \n4     Smartphone Samsung Galaxy S7 Usado 32GB 12.0 M...          1.0   \n...                                                 ...          ...   \n6183  Smartphone Xiaomi Redmi Note 4X 32GB Qualcomm ...          1.0   \n6184  Smartphone Xiaomi Redmi 5 Plus 32GB 12.0 MP Qu...          1.0   \n6185  Smartphone LG K40S LMX430BMW 32GB Câmera Dupla...         11.0   \n6186  Smartphone Samsung Galaxy A30s SM-A307G 64GB C...         17.0   \n6187  Smartphone Motorola MotorolaOne Macro 64GB Câm...         12.0   \n\n     device_model_searched  price_cents  \n0             Moto G4 Plus      40400.0  \n1             Moto G4 Plus      72900.0  \n2                Galaxy S7     199900.0  \n3                Galaxy S7     249500.0  \n4                Galaxy S7      68300.0  \n...                    ...          ...  \n6183               Redmi 8     101900.0  \n6184               Redmi 8     119900.0  \n6185               LG K40S      62800.0  \n6186           Galaxy A30s     127500.0  \n6187    motorola one macro     101900.0  \n\n[2759 rows x 4 columns]"
     },
     "execution_count": 3,
     "metadata": {},
     "output_type": "execute_result"
    }
   ],
   "source": [
    "devices = devices.dropna(subset=[\"name\"])\n",
    "\n",
    "is_smartphone = devices[\"name\"].str.contains(\"SMARTPHONE\", case=False)\n",
    "is_tablet = devices[\"name\"].str.contains(\"TABLET\", case=False)\n",
    "\n",
    "devices = devices[is_smartphone | is_tablet]\n",
    "\n",
    "devices"
   ]
  },
  {
   "cell_type": "code",
   "execution_count": 4,
   "metadata": {},
   "outputs": [],
   "source": [
    "devices.to_csv(\"./files/devices.csv\")"
   ]
  },
  {
   "cell_type": "code",
   "execution_count": 5,
   "metadata": {},
   "outputs": [],
   "source": [
    "device_groups = devices.groupby(\"device_model_searched\")\n",
    "devices_price_info = device_groups[\"price_cents\"].describe().round()\n",
    "devices_price_info = devices_price_info[devices_price_info[\"mean\"].notnull()]\n",
    "devices_price_info = devices_price_info.reset_index()"
   ]
  },
  {
   "cell_type": "code",
   "execution_count": 6,
   "metadata": {},
   "outputs": [],
   "source": [
    "devices_price_info.to_csv(\"./files/devices_price.csv\")"
   ]
  },
  {
   "cell_type": "code",
   "execution_count": 7,
   "metadata": {},
   "outputs": [
    {
     "data": {
      "text/html": "<div>\n<style scoped>\n    .dataframe tbody tr th:only-of-type {\n        vertical-align: middle;\n    }\n\n    .dataframe tbody tr th {\n        vertical-align: top;\n    }\n\n    .dataframe thead th {\n        text-align: right;\n    }\n</style>\n<table border=\"1\" class=\"dataframe\">\n  <thead>\n    <tr style=\"text-align: right;\">\n      <th></th>\n      <th>userId</th>\n      <th>deviceModel</th>\n    </tr>\n  </thead>\n  <tbody>\n    <tr>\n      <td>0</td>\n      <td>aff3df3b88b1e955</td>\n      <td>Moto G4 Plus</td>\n    </tr>\n    <tr>\n      <td>2</td>\n      <td>1111</td>\n      <td>Moto G4 Plus</td>\n    </tr>\n    <tr>\n      <td>119</td>\n      <td>123</td>\n      <td>Moto G4 Plus</td>\n    </tr>\n    <tr>\n      <td>128</td>\n      <td>0</td>\n      <td>Moto G4 Plus</td>\n    </tr>\n    <tr>\n      <td>129</td>\n      <td>324</td>\n      <td>Moto G4 Plus</td>\n    </tr>\n    <tr>\n      <td>...</td>\n      <td>...</td>\n      <td>...</td>\n    </tr>\n    <tr>\n      <td>47313265</td>\n      <td>113641</td>\n      <td>iPhone 6s</td>\n    </tr>\n    <tr>\n      <td>47313479</td>\n      <td>222611</td>\n      <td>iPhone XR</td>\n    </tr>\n    <tr>\n      <td>47313604</td>\n      <td>222419</td>\n      <td>iPhone XR</td>\n    </tr>\n    <tr>\n      <td>47313676</td>\n      <td>222382</td>\n      <td>iPhone 8 Plus</td>\n    </tr>\n    <tr>\n      <td>47313742</td>\n      <td>222538</td>\n      <td>iPhone 7 Plus</td>\n    </tr>\n  </tbody>\n</table>\n<p>181034 rows × 2 columns</p>\n</div>",
      "text/plain": "                    userId    deviceModel\n0         aff3df3b88b1e955   Moto G4 Plus\n2                     1111   Moto G4 Plus\n119                    123   Moto G4 Plus\n128                      0   Moto G4 Plus\n129                    324   Moto G4 Plus\n...                    ...            ...\n47313265            113641      iPhone 6s\n47313479            222611      iPhone XR\n47313604            222419      iPhone XR\n47313676            222382  iPhone 8 Plus\n47313742            222538  iPhone 7 Plus\n\n[181034 rows x 2 columns]"
     },
     "execution_count": 7,
     "metadata": {},
     "output_type": "execute_result"
    }
   ],
   "source": [
    "parquet_file = pandas.read_parquet(\"./files/flurry_user_event_date.parquet\", columns=[\"userId\", \"deviceModel\"])\n",
    "parquet_file = parquet_file.drop_duplicates()\n",
    "parquet_file = parquet_file.dropna(subset=[\"userId\", \"deviceModel\"])\n",
    "parquet_file"
   ]
  },
  {
   "cell_type": "code",
   "execution_count": 8,
   "metadata": {},
   "outputs": [
    {
     "data": {
      "text/html": "<div>\n<style scoped>\n    .dataframe tbody tr th:only-of-type {\n        vertical-align: middle;\n    }\n\n    .dataframe tbody tr th {\n        vertical-align: top;\n    }\n\n    .dataframe thead th {\n        text-align: right;\n    }\n</style>\n<table border=\"1\" class=\"dataframe\">\n  <thead>\n    <tr style=\"text-align: right;\">\n      <th></th>\n      <th>user_id</th>\n      <th>user_device_model</th>\n      <th>device_model_mean_price</th>\n      <th>classification</th>\n    </tr>\n  </thead>\n  <tbody>\n    <tr>\n      <td>0</td>\n      <td>aff3df3b88b1e955</td>\n      <td>Moto G4 Plus</td>\n      <td>56650.0</td>\n      <td>low_range</td>\n    </tr>\n    <tr>\n      <td>1</td>\n      <td>1111</td>\n      <td>Moto G4 Plus</td>\n      <td>56650.0</td>\n      <td>low_range</td>\n    </tr>\n    <tr>\n      <td>2</td>\n      <td>123</td>\n      <td>Moto G4 Plus</td>\n      <td>56650.0</td>\n      <td>low_range</td>\n    </tr>\n    <tr>\n      <td>3</td>\n      <td>0</td>\n      <td>Moto G4 Plus</td>\n      <td>56650.0</td>\n      <td>low_range</td>\n    </tr>\n    <tr>\n      <td>4</td>\n      <td>324</td>\n      <td>Moto G4 Plus</td>\n      <td>56650.0</td>\n      <td>low_range</td>\n    </tr>\n    <tr>\n      <td>...</td>\n      <td>...</td>\n      <td>...</td>\n      <td>...</td>\n      <td>...</td>\n    </tr>\n    <tr>\n      <td>181029</td>\n      <td>113641</td>\n      <td>iPhone 6s</td>\n      <td>173736.0</td>\n      <td>high_end</td>\n    </tr>\n    <tr>\n      <td>181030</td>\n      <td>222611</td>\n      <td>iPhone XR</td>\n      <td>372133.0</td>\n      <td>high_end</td>\n    </tr>\n    <tr>\n      <td>181031</td>\n      <td>222419</td>\n      <td>iPhone XR</td>\n      <td>372133.0</td>\n      <td>high_end</td>\n    </tr>\n    <tr>\n      <td>181032</td>\n      <td>222382</td>\n      <td>iPhone 8 Plus</td>\n      <td>279114.0</td>\n      <td>high_end</td>\n    </tr>\n    <tr>\n      <td>181033</td>\n      <td>222538</td>\n      <td>iPhone 7 Plus</td>\n      <td>251990.0</td>\n      <td>high_end</td>\n    </tr>\n  </tbody>\n</table>\n<p>181034 rows × 4 columns</p>\n</div>",
      "text/plain": "                 user_id user_device_model  device_model_mean_price  \\\n0       aff3df3b88b1e955      Moto G4 Plus                  56650.0   \n1                   1111      Moto G4 Plus                  56650.0   \n2                    123      Moto G4 Plus                  56650.0   \n3                      0      Moto G4 Plus                  56650.0   \n4                    324      Moto G4 Plus                  56650.0   \n...                  ...               ...                      ...   \n181029            113641         iPhone 6s                 173736.0   \n181030            222611         iPhone XR                 372133.0   \n181031            222419         iPhone XR                 372133.0   \n181032            222382     iPhone 8 Plus                 279114.0   \n181033            222538     iPhone 7 Plus                 251990.0   \n\n       classification  \n0           low_range  \n1           low_range  \n2           low_range  \n3           low_range  \n4           low_range  \n...               ...  \n181029       high_end  \n181030       high_end  \n181031       high_end  \n181032       high_end  \n181033       high_end  \n\n[181034 rows x 4 columns]"
     },
     "execution_count": 8,
     "metadata": {},
     "output_type": "execute_result"
    }
   ],
   "source": [
    "def extractor(row):\n",
    "    idx = row[0]\n",
    "    user_id = row[1]\n",
    "    user_device_model = row[2]\n",
    "    device_model_searched = devices_price_info[devices_price_info[\"device_model_searched\"] == user_device_model]\n",
    "    device_model_mean_price = device_model_searched[\"mean\"].values[0] if not device_model_searched.empty else None\n",
    "    classification = None\n",
    "\n",
    "    if device_model_mean_price:\n",
    "        if device_model_mean_price > 0 and device_model_mean_price <= 75000:\n",
    "            classification = \"low_range\"\n",
    "        elif device_model_mean_price > 75000 and device_model_mean_price <= 150000:\n",
    "            classification = \"mid_range\"\n",
    "        else:\n",
    "            classification = \"high_end\"\n",
    "\n",
    "    return { \n",
    "        \"user_id\": user_id,\n",
    "        \"user_device_model\": user_device_model,\n",
    "        \"device_model_mean_price\": device_model_mean_price,\n",
    "        \"classification\": classification\n",
    "    }\n",
    "\n",
    "classifications_data_frame = pandas.DataFrame(list(map(extractor, parquet_file.itertuples())))\n",
    "classifications_data_frame"
   ]
  },
  {
   "cell_type": "code",
   "execution_count": 10,
   "metadata": {},
   "outputs": [],
   "source": [
    "classifications_data_frame.to_csv(\"./files/classification.csv\")"
   ]
  },
  {
   "cell_type": "code",
   "execution_count": null,
   "metadata": {},
   "outputs": [],
   "source": []
  }
 ]
}